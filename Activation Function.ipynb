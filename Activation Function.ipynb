{
 "cells": [
  {
   "cell_type": "markdown",
   "id": "06187e12",
   "metadata": {},
   "source": [
    "### Binary Step Function"
   ]
  },
  {
   "cell_type": "code",
   "execution_count": 5,
   "id": "b5876bba",
   "metadata": {},
   "outputs": [],
   "source": [
    "def binary_step(x):\n",
    "    if x<0:\n",
    "        return 0\n",
    "    else: \n",
    "        return 1"
   ]
  },
  {
   "cell_type": "code",
   "execution_count": 6,
   "id": "e775933b",
   "metadata": {
    "scrolled": true
   },
   "outputs": [
    {
     "data": {
      "text/plain": [
       "1"
      ]
     },
     "execution_count": 6,
     "metadata": {},
     "output_type": "execute_result"
    }
   ],
   "source": [
    "binary_step(12)"
   ]
  },
  {
   "cell_type": "code",
   "execution_count": 14,
   "id": "a4dc2aaa",
   "metadata": {},
   "outputs": [
    {
     "data": {
      "text/plain": [
       "0"
      ]
     },
     "execution_count": 14,
     "metadata": {},
     "output_type": "execute_result"
    }
   ],
   "source": [
    "binary_step(-12)"
   ]
  },
  {
   "cell_type": "markdown",
   "id": "265ba402",
   "metadata": {},
   "source": [
    "## Linear Function"
   ]
  },
  {
   "cell_type": "code",
   "execution_count": 7,
   "id": "3a431750",
   "metadata": {},
   "outputs": [],
   "source": [
    "def Linear_function(x):\n",
    "    return 3*x"
   ]
  },
  {
   "cell_type": "code",
   "execution_count": 9,
   "id": "1f56a6a7",
   "metadata": {},
   "outputs": [
    {
     "data": {
      "text/plain": [
       "39"
      ]
     },
     "execution_count": 9,
     "metadata": {},
     "output_type": "execute_result"
    }
   ],
   "source": [
    "Linear_function(13)"
   ]
  },
  {
   "cell_type": "code",
   "execution_count": 10,
   "id": "58975065",
   "metadata": {},
   "outputs": [
    {
     "data": {
      "text/plain": [
       "-39"
      ]
     },
     "execution_count": 10,
     "metadata": {},
     "output_type": "execute_result"
    }
   ],
   "source": [
    "Linear_function(-13)"
   ]
  },
  {
   "cell_type": "markdown",
   "id": "4708b4fd",
   "metadata": {},
   "source": [
    "### Sigmoid Function"
   ]
  },
  {
   "cell_type": "code",
   "execution_count": 11,
   "id": "a93cff93",
   "metadata": {},
   "outputs": [],
   "source": [
    "import numpy as np\n",
    "def sigmoid_function(x):\n",
    "    z=(1/(1+np.exp(-x)))\n",
    "    return z"
   ]
  },
  {
   "cell_type": "code",
   "execution_count": 12,
   "id": "74b2bcaf",
   "metadata": {},
   "outputs": [
    {
     "data": {
      "text/plain": [
       "0.11920292202211755"
      ]
     },
     "execution_count": 12,
     "metadata": {},
     "output_type": "execute_result"
    }
   ],
   "source": [
    "sigmoid_function(-2)"
   ]
  },
  {
   "cell_type": "code",
   "execution_count": 13,
   "id": "994b3238",
   "metadata": {},
   "outputs": [
    {
     "data": {
      "text/plain": [
       "0.8807970779778823"
      ]
     },
     "execution_count": 13,
     "metadata": {},
     "output_type": "execute_result"
    }
   ],
   "source": [
    "sigmoid_function(2)"
   ]
  },
  {
   "cell_type": "markdown",
   "id": "4e62558d",
   "metadata": {},
   "source": [
    "### Tanh"
   ]
  },
  {
   "cell_type": "code",
   "execution_count": 15,
   "id": "376c63b3",
   "metadata": {},
   "outputs": [],
   "source": [
    "def tanh_function(x):\n",
    "    z=(2/(1+np.exp(-2*x)))-1\n",
    "    return z"
   ]
  },
  {
   "cell_type": "code",
   "execution_count": 17,
   "id": "c9185a57",
   "metadata": {},
   "outputs": [
    {
     "data": {
      "text/plain": [
       "1.0"
      ]
     },
     "execution_count": 17,
     "metadata": {},
     "output_type": "execute_result"
    }
   ],
   "source": [
    "tanh_function(22.7)"
   ]
  },
  {
   "cell_type": "code",
   "execution_count": 18,
   "id": "b0b8360e",
   "metadata": {},
   "outputs": [
    {
     "data": {
      "text/plain": [
       "-0.9999983369439447"
      ]
     },
     "execution_count": 18,
     "metadata": {},
     "output_type": "execute_result"
    }
   ],
   "source": [
    "tanh_function(-7)"
   ]
  },
  {
   "cell_type": "markdown",
   "id": "e99a09b6",
   "metadata": {},
   "source": [
    "### RELU Function"
   ]
  },
  {
   "cell_type": "code",
   "execution_count": 19,
   "id": "1f594087",
   "metadata": {},
   "outputs": [],
   "source": [
    "def relu_Function(x):\n",
    "    if x<0:\n",
    "        return 0\n",
    "    else:\n",
    "        return x"
   ]
  },
  {
   "cell_type": "code",
   "execution_count": 21,
   "id": "16b9db4d",
   "metadata": {},
   "outputs": [
    {
     "data": {
      "text/plain": [
       "0"
      ]
     },
     "execution_count": 21,
     "metadata": {},
     "output_type": "execute_result"
    }
   ],
   "source": [
    "relu_Function(-7)"
   ]
  },
  {
   "cell_type": "code",
   "execution_count": 22,
   "id": "42860040",
   "metadata": {},
   "outputs": [
    {
     "data": {
      "text/plain": [
       "10"
      ]
     },
     "execution_count": 22,
     "metadata": {},
     "output_type": "execute_result"
    }
   ],
   "source": [
    "relu_Function(10)"
   ]
  },
  {
   "cell_type": "markdown",
   "id": "daa737fa",
   "metadata": {},
   "source": [
    "### leaky function"
   ]
  },
  {
   "cell_type": "code",
   "execution_count": 23,
   "id": "10360477",
   "metadata": {},
   "outputs": [],
   "source": [
    "def leaky_function(x):\n",
    "    if x<0:\n",
    "        return 0.01*x\n",
    "    else:\n",
    "        return x"
   ]
  },
  {
   "cell_type": "code",
   "execution_count": 24,
   "id": "c8c94fe2",
   "metadata": {},
   "outputs": [
    {
     "data": {
      "text/plain": [
       "9"
      ]
     },
     "execution_count": 24,
     "metadata": {},
     "output_type": "execute_result"
    }
   ],
   "source": [
    "leaky_function(9)"
   ]
  },
  {
   "cell_type": "code",
   "execution_count": 25,
   "id": "a333c64e",
   "metadata": {},
   "outputs": [
    {
     "data": {
      "text/plain": [
       "-0.09"
      ]
     },
     "execution_count": 25,
     "metadata": {},
     "output_type": "execute_result"
    }
   ],
   "source": [
    "leaky_function(-9)"
   ]
  },
  {
   "cell_type": "markdown",
   "id": "fa63d7bb",
   "metadata": {},
   "source": [
    "### ELU Function"
   ]
  },
  {
   "cell_type": "code",
   "execution_count": 26,
   "id": "816f0599",
   "metadata": {},
   "outputs": [],
   "source": [
    "def elu_function(x,a):\n",
    "    if x<0:\n",
    "        return a*(np.exp(x)-1)\n",
    "    else:\n",
    "        return x"
   ]
  },
  {
   "cell_type": "code",
   "execution_count": 27,
   "id": "786c35a7",
   "metadata": {},
   "outputs": [
    {
     "data": {
      "text/plain": [
       "5"
      ]
     },
     "execution_count": 27,
     "metadata": {},
     "output_type": "execute_result"
    }
   ],
   "source": [
    "elu_function(5,0.1)"
   ]
  },
  {
   "cell_type": "code",
   "execution_count": 28,
   "id": "8de12e8d",
   "metadata": {},
   "outputs": [
    {
     "data": {
      "text/plain": [
       "-0.09932620530009145"
      ]
     },
     "execution_count": 28,
     "metadata": {},
     "output_type": "execute_result"
    }
   ],
   "source": [
    "elu_function(-5,0.1)"
   ]
  },
  {
   "cell_type": "markdown",
   "id": "b3693e6b",
   "metadata": {},
   "source": [
    "### Swish Function"
   ]
  },
  {
   "cell_type": "code",
   "execution_count": 29,
   "id": "0764e2f3",
   "metadata": {},
   "outputs": [],
   "source": [
    "def swish_function(x):\n",
    "    return x/(1-np.exp(-x))"
   ]
  },
  {
   "cell_type": "code",
   "execution_count": 32,
   "id": "a2586c53",
   "metadata": {},
   "outputs": [
    {
     "data": {
      "text/plain": [
       "0.006388999772552136"
      ]
     },
     "execution_count": 32,
     "metadata": {},
     "output_type": "execute_result"
    }
   ],
   "source": [
    "swish_function(-7)"
   ]
  },
  {
   "cell_type": "code",
   "execution_count": 33,
   "id": "d56b569f",
   "metadata": {},
   "outputs": [
    {
     "data": {
      "text/plain": [
       "7.006388999772552"
      ]
     },
     "execution_count": 33,
     "metadata": {},
     "output_type": "execute_result"
    }
   ],
   "source": [
    "swish_function(7)"
   ]
  },
  {
   "cell_type": "markdown",
   "id": "42be3890",
   "metadata": {},
   "source": [
    "### softmax function"
   ]
  },
  {
   "cell_type": "code",
   "execution_count": 34,
   "id": "00299d2b",
   "metadata": {},
   "outputs": [],
   "source": [
    "def softmax_function(x):\n",
    "    z=np.exp(x)\n",
    "    z=z/z.sum()\n",
    "    return z"
   ]
  },
  {
   "cell_type": "code",
   "execution_count": 36,
   "id": "300a5218",
   "metadata": {},
   "outputs": [
    {
     "data": {
      "text/plain": [
       "array([0.65900114, 0.24243297, 0.09856589])"
      ]
     },
     "execution_count": 36,
     "metadata": {},
     "output_type": "execute_result"
    }
   ],
   "source": [
    "softmax_function([2.0,1.0,0.1])"
   ]
  },
  {
   "cell_type": "code",
   "execution_count": null,
   "id": "be6db2bc",
   "metadata": {},
   "outputs": [],
   "source": []
  }
 ],
 "metadata": {
  "kernelspec": {
   "display_name": "Python 3 (ipykernel)",
   "language": "python",
   "name": "python3"
  },
  "language_info": {
   "codemirror_mode": {
    "name": "ipython",
    "version": 3
   },
   "file_extension": ".py",
   "mimetype": "text/x-python",
   "name": "python",
   "nbconvert_exporter": "python",
   "pygments_lexer": "ipython3",
   "version": "3.10.9"
  }
 },
 "nbformat": 4,
 "nbformat_minor": 5
}
